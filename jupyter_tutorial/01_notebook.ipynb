{
 "cells": [
  {
   "cell_type": "markdown",
   "metadata": {},
   "source": [
    "# Основы работы с блокнотом Jupyter Notebook и примеры решения задач"
   ]
  },
  {
   "cell_type": "markdown",
   "metadata": {},
   "source": [
    "[К оглавлению](00_contents.ipynb)"
   ]
  },
  {
   "cell_type": "markdown",
   "metadata": {},
   "source": [
    "## Структура блокнота и основные операции"
   ]
  },
  {
   "cell_type": "markdown",
   "metadata": {},
   "source": [
    "### Ячейка Markdown\n",
    "\n",
    "**Markdown** - простой язык для оформления документов. Ячейки этого типа используются для пояснения методики расчетов. \n",
    "Помимо обычного текста, ячейка может содержать:\n"
   ]
  },
  {
   "cell_type": "markdown",
   "metadata": {},
   "source": [
    "- списки:\n",
    "\n",
    " 1. первый\n",
    " 1. второй\n",
    " 1. третий\n"
   ]
  },
  {
   "cell_type": "markdown",
   "metadata": {},
   "source": [
    "\n",
    "\n",
    "- таблицы:\n",
    "\n",
    "Заголовок 1  | Заголовок 2\n",
    ":------------|:------------\n",
    " Ячейка 1    | Ячейка 2   \n",
    " Ячейка 3    | Ячейка 4        \n"
   ]
  },
  {
   "cell_type": "markdown",
   "metadata": {},
   "source": [
    "\n",
    "- математические формулы: $ (x-a)^2 + (y-b)^2 = R^2 $,\n"
   ]
  },
  {
   "cell_type": "markdown",
   "metadata": {},
   "source": [
    "- [гиперссылки](http://yandex.ru),"
   ]
  },
  {
   "cell_type": "markdown",
   "metadata": {},
   "source": [
    "- изображения: \n",
    "![Менделеев](http://images.aif.ru/007/880/d42923e174c2d408e3d4fa9a06dc98c4.jpg \"Менделеев\") \n"
   ]
  },
  {
   "cell_type": "markdown",
   "metadata": {},
   "source": [
    "- другие объекты, которые можно разместить на веб-странице (с помощью HTML-тегов).\n"
   ]
  },
  {
   "cell_type": "markdown",
   "metadata": {},
   "source": [
    "### Ячейка кода\n",
    "\n",
    "В ячейках кода необходимо писать команды в соответствии с правилами Python. Эти команды при вычислении ячейки интерпретируются и выполняются. Результат выводится сразу после ячейки. \n",
    "\n",
    "При вычислении ячейки с кодом она получает последовательный номер ввода - `In[?]`. А результат вычисления ячейки - номер вывода - `Out[?]`:"
   ]
  },
  {
   "cell_type": "code",
   "execution_count": null,
   "metadata": {
    "collapsed": false
   },
   "outputs": [],
   "source": [
    "2 * 2"
   ]
  },
  {
   "cell_type": "markdown",
   "metadata": {},
   "source": [
    "### Режимы работы\n",
    "\n",
    "- режим выполнения (command mode) [Esc]\n",
    "- режим редактирования ячейки (edit mode) [Enter]"
   ]
  },
  {
   "cell_type": "markdown",
   "metadata": {},
   "source": [
    "### Выполнение кода в ячейках\n",
    "\n",
    "- `Shift-Enter` - выполнить и перейти к следующей\n",
    "- `Ctrl-Enter` - выполнить без перехода к следующей ячейке\n",
    "- `Alt-Enter` - выполнить и добавить новую  ячейку ниже"
   ]
  },
  {
   "cell_type": "code",
   "execution_count": null,
   "metadata": {
    "collapsed": false
   },
   "outputs": [],
   "source": [
    "print('Hello!') # Потренируйтесь на этой ячейке"
   ]
  },
  {
   "cell_type": "markdown",
   "metadata": {},
   "source": [
    "### Справка по клавишам\n",
    "\n",
    "Для часто выполняемых действий назначены \"горячие\" клавиши. \n",
    "\n",
    "См. Help/Keyboard Shortcuts"
   ]
  },
  {
   "cell_type": "markdown",
   "metadata": {},
   "source": [
    "### Операции с блокнотом\n",
    "\n",
    "- создание\n",
    "- переименование\n",
    "- сохранение\n",
    "- загрузка (.ipynb и .html)\n",
    "- открытие существующего блокнота\n",
    "- [nbviewer](http://nbviewer.jupyter.org)"
   ]
  },
  {
   "cell_type": "markdown",
   "metadata": {},
   "source": [
    "## Примеры решения задач"
   ]
  },
  {
   "cell_type": "markdown",
   "metadata": {
    "collapsed": true
   },
   "source": [
    "### Построение графика функции одной переменной\n",
    "\n",
    "\n",
    "Построить в одной системе координат графики функций:\n",
    "\n",
    "- $ f_1(x) = x^2 - 4 $\n",
    "- $ f_2(x) = x + 4$\n",
    "\n",
    "\n"
   ]
  },
  {
   "cell_type": "code",
   "execution_count": null,
   "metadata": {
    "collapsed": false
   },
   "outputs": [],
   "source": [
    "# Подключаем пакеты:\n",
    "import numpy as np #работа с массивами\n",
    "import matplotlib.pyplot as plt #графики\n",
    "# Инициализация отображения графиков в блокноте:\n",
    "%matplotlib inline "
   ]
  },
  {
   "cell_type": "code",
   "execution_count": null,
   "metadata": {
    "collapsed": false,
    "run_control": {
     "marked": false
    }
   },
   "outputs": [],
   "source": [
    "# Задаем диапазон изменения независимой переменной:\n",
    "x = np.linspace(-5, 5, 21)\n",
    "\n",
    "# Задаем функции:\n",
    "f1 = lambda x: x**2 - 4\n",
    "f2 = lambda x: x + 4"
   ]
  },
  {
   "cell_type": "code",
   "execution_count": null,
   "metadata": {
    "collapsed": false
   },
   "outputs": [],
   "source": [
    "# График \"по-быстрому\"\n",
    "plt.plot(x, f1(x))\n",
    "plt.plot(x, f2(x));"
   ]
  },
  {
   "cell_type": "code",
   "execution_count": null,
   "metadata": {
    "collapsed": false,
    "run_control": {
     "marked": false
    }
   },
   "outputs": [],
   "source": [
    "# График красивый\n",
    "plt.plot(x, f1(x), label='$f_1(x)$')\n",
    "plt.plot(x, f2(x), label='$f_2(x)$')\n",
    "plt.xlabel('$x$', fontsize=16)\n",
    "plt.title('График функции', fontsize=18)\n",
    "plt.legend(loc='best', fontsize=14);"
   ]
  },
  {
   "cell_type": "markdown",
   "metadata": {},
   "source": [
    "> **Задание**:\n",
    "> Построить \"красивый\" график функций: sin(x) и cos(x) на интервале $(-4\\pi;4\\pi)$\n",
    "\n",
    "\n",
    "> *Совет*: необходимые функции и константа содержатся в пакете numpy. К ним можно обратиться так: `np.pi`, `np.sin()`\n"
   ]
  },
  {
   "cell_type": "code",
   "execution_count": null,
   "metadata": {
    "collapsed": true
   },
   "outputs": [],
   "source": [
    "# Здесь ваш код"
   ]
  }
 ],
 "metadata": {
  "hide_input": false,
  "kernelspec": {
   "display_name": "Python 3",
   "language": "python",
   "name": "python3"
  },
  "language_info": {
   "codemirror_mode": {
    "name": "ipython",
    "version": 3
   },
   "file_extension": ".py",
   "mimetype": "text/x-python",
   "name": "python",
   "nbconvert_exporter": "python",
   "pygments_lexer": "ipython3",
   "version": "3.4.3"
  },
  "latex_envs": {
   "bibliofile": "biblio.bib",
   "cite_by": "apalike",
   "current_citInitial": 1,
   "eqLabelWithNumbers": true,
   "eqNumInitial": 0
  },
  "toc": {
   "toc_cell": false,
   "toc_number_sections": false,
   "toc_threshold": 4,
   "toc_window_display": false
  }
 },
 "nbformat": 4,
 "nbformat_minor": 0
}

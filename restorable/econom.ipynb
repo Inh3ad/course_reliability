{
 "metadata": {
  "name": "",
  "signature": "sha256:871878edf217abe609418089988c6fa1280e91fd425963d2e6905513b453b0e7"
 },
 "nbformat": 3,
 "nbformat_minor": 0,
 "worksheets": [
  {
   "cells": [
    {
     "cell_type": "heading",
     "level": 1,
     "metadata": {},
     "source": [
      "\u042d\u043a\u043e\u043d\u043e\u043c\u0438\u0447\u0435\u0441\u043a\u0430\u044f \u043e\u043f\u0442\u0438\u043c\u0438\u0437\u0430\u0446\u0438\u044f \u0432\u043e\u0441\u0441\u0442\u0430\u043d\u043e\u0432\u043b\u0435\u043d\u0438\u044f"
     ]
    },
    {
     "cell_type": "code",
     "collapsed": false,
     "input": [
      "# \u0418\u043c\u043f\u043e\u0440\u0442 \u0431\u0438\u0431\u043b\u0438\u043e\u0442\u0435\u043a \u0438 \u043d\u0430\u0441\u0442\u0440\u043e\u0439\u043a\u0430 \u0441\u0440\u0435\u0434\u044b\n",
      "%matplotlib inline\n",
      "%precision 3\n",
      "\n",
      "from numpy import matrix, linspace, ravel"
     ],
     "language": "python",
     "metadata": {},
     "outputs": [],
     "prompt_number": 4
    },
    {
     "cell_type": "markdown",
     "metadata": {},
     "source": [
      "##\u041f\u043e\u0441\u0442\u0430\u043d\u043e\u0432\u043a\u0430 \u0437\u0430\u0434\u0430\u0447\u0438"
     ]
    },
    {
     "cell_type": "markdown",
     "metadata": {},
     "source": [
      "\u041d\u0435\u043a\u043e\u0442\u043e\u0440\u0430\u044f \u0442\u0435\u0445\u043d\u0438\u0447\u0435\u0441\u043a\u0430\u044f \u0441\u0438\u0441\u0442\u0435\u043c\u0430 \u0441\u043e\u0441\u0442\u043e\u0438\u0442 \u0438\u0437 \u0434\u0432\u0443\u0445 \u043e\u0434\u0438\u043d\u0430\u043a\u043e\u0432\u044b\u0445 \u0431\u043b\u043e\u043a\u043e\u0432. \u0414\u043b\u044f \u0440\u0430\u0431\u043e\u0442\u043e\u0441\u043f\u043e\u0441\u043e\u0431\u043d\u043e\u0441\u0442\u0438\n",
      "\u0441\u0438\u0441\u0442\u0435\u043c\u044b \u0434\u043e\u0441\u0442\u0430\u0442\u043e\u0447\u043d\u043e \u0442\u043e\u043b\u044c\u043a\u043e \u043e\u0434\u043d\u043e\u0433\u043e \u0431\u043b\u043e\u043a\u0430, \u043e\u0434\u043d\u0430\u043a\u043e \u0432\u0442\u043e\u0440\u043e\u0439 \u043f\u043e\u0441\u0442\u043e\u044f\u043d\u043d\u043e \u0432\u043a\u043b\u044e\u0447\u0435\u043d \u0432 \u0440\u0435\u0436\u0438\u043c\u0435 \u0433\u043e\u0440\u044f\u0447\u0435\u0433\u043e\n",
      "\u0440\u0435\u0437\u0435\u0440\u0432\u0430. \u0415\u0441\u043b\u0438 \u043e\u0431\u0430 \u0431\u043b\u043e\u043a\u0430 \u0440\u0430\u0431\u043e\u0442\u0430\u044e\u0442, \u0442\u043e \u043d\u0430\u0433\u0440\u0443\u0437\u043a\u0430 \u0440\u0430\u0432\u043d\u043e\u043c\u0435\u0440\u043d\u043e \u0440\u0430\u0441\u043f\u0440\u0435\u0434\u0435\u043b\u044f\u0435\u0442\u0441\u044f \u043c\u0435\u0436\u0434\u0443 \u043d\u0438\u043c\u0438.\n",
      "\n",
      "\u0425\u0430\u0440\u0430\u043a\u0442\u0435\u0440\u0438\u0441\u0442\u0438\u043a\u0438 \u043d\u0430\u0434\u0435\u0436\u043d\u043e\u0441\u0442\u0438 \u0431\u043b\u043e\u043a\u043e\u0432: \u0441\u0440\u0435\u0434\u043d\u044f\u044f \u043d\u0430\u0440\u0430\u0431\u043e\u0442\u043a\u0430 \u043d\u0430 \u043e\u0442\u043a\u0430\u0437 $\\bar{t} = 1000$ \u0447\u0430\u0441\u043e\u0432, \u0441\u0440\u0435\u0434\u043d\u0435\u0435 \u0432\u0440\u0435\u043c\u044f\n",
      "\u0432\u043e\u0441\u0441\u0442\u0430\u043d\u043e\u0432\u043b\u0435\u043d\u0438\u044f \u043e\u0442\u043a\u0430\u0437\u0430\u0432\u0448\u0435\u0433\u043e \u0431\u043b\u043e\u043a\u0430 - $t_\u0432 = 50$ \u0447\u0430\u0441\u043e\u0432.\n",
      "\n",
      "\u0414\u043b\u044f \u043e\u0431\u0441\u043b\u0443\u0436\u0438\u0432\u0430\u043d\u0438\u044f \u0441\u0438\u0441\u0442\u0435\u043c\u044b \u0438\u043c\u0435\u0435\u0442\u0441\u044f \u043e\u0434\u043d\u0430 \u0440\u0435\u043c\u043e\u043d\u0442\u043d\u0430\u044f \u0431\u0440\u0438\u0433\u0430\u0434\u0430, \u043a\u043e\u0442\u043e\u0440\u0430\u044f \u043c\u043e\u0436\u0435\u0442 \u043e\u0434\u043d\u043e\u0432\u0440\u0435\u043c\u0435\u043d\u043d\u043e\n",
      "\u0432\u043e\u0441\u0441\u0442\u0430\u043d\u0430\u0432\u043b\u0438\u0432\u0430\u0442\u044c \u043e\u0434\u0438\u043d \u0431\u043b\u043e\u043a.\n",
      "\n",
      "\u0427\u0430\u0441 \u043f\u0440\u043e\u0441\u0442\u043e\u044f \u0441\u0438\u0441\u0442\u0435\u043c\u044b \u043f\u0440\u0438 \u043e\u0442\u043a\u0430\u0437\u0435 \u043e\u0431\u043e\u0438\u0445 \u0431\u043b\u043e\u043a\u043e\u0432 \u043e\u0431\u0445\u043e\u0434\u0438\u0442\u0441\u044f \u0432 200 \u0442\u044b\u0441. \u0440\u0443\u0431\u043b\u0435\u0439.\n",
      "\u0417\u0430\u0442\u0440\u0430\u0442\u044b \u043d\u0430 \u0441\u043e\u0434\u0435\u0440\u0436\u0430\u043d\u0438\u0435 \u0440\u0435\u043c\u043e\u043d\u0442\u043d\u043e\u0439 \u0431\u0440\u0438\u0433\u0430\u0434\u044b \u0441\u043e\u0441\u0442\u0430\u0432\u043b\u044f\u044e\u0442 1 200 \u0442\u044b\u0441. \u0440\u0443\u0431\u043b\u0435\u0439 \u0432 \u0433\u043e\u0434 (\u0437\u0430\u0440\u0430\u0431\u043e\u0442\u043d\u0430\u044f \u043f\u043b\u0430\u0442\u0430\n",
      "\u0438\u043d\u0436\u0435\u043d\u0435\u0440\u0430 \u0438 \u0434\u0432\u0443\u0445 \u0440\u0430\u0431\u043e\u0447\u0438\u0445 + \u0440\u0430\u0441\u0445\u043e\u0434\u043d\u044b\u0435 \u043c\u0430\u0442\u0435\u0440\u0438\u0430\u043b\u044b).\n",
      "\n",
      "\n",
      "![\u0411\u043b\u043e\u043a-\u0441\u0445\u0435\u043c\u0430 \u043d\u0430\u0434\u0435\u0436\u043d\u043e\u0441\u0442\u0438](pics/2app.png)\n",
      "\n",
      "\u0418\u043d\u0442\u0435\u043d\u0441\u0438\u0432\u043d\u043e\u0441\u0442\u044c \u043e\u0442\u043a\u0430\u0437\u043e\u0432 \u0438 \u0432\u043e\u0441\u0441\u0442\u0430\u043d\u043e\u0432\u043b\u0435\u043d\u0438\u044f \u0430\u043f\u043f\u0430\u0440\u0430\u0442\u043e\u0432: \n",
      "\n",
      "$$\\lambda = \\frac{1}{\\bar{t}}$$\n",
      "\n",
      "\n",
      "$$\\mu = \\frac{1}{t_\u0432} $$\n",
      "\n",
      "\n",
      "\u041f\u043e\u0442\u043e\u043a\u0438 \u0441\u043e\u0431\u044b\u0442\u0438\u0439 \u0432 \u0441\u0438\u0441\u0442\u0435\u043c\u0435 - \u043f\u0440\u043e\u0441\u0442\u0435\u0439\u0448\u0438\u0435."
     ]
    },
    {
     "cell_type": "code",
     "collapsed": false,
     "input": [
      "lambda1 = 1/1000 #\u0418\u043d\u0442\u0435\u043d\u0441\u0438\u0432\u043d\u043e\u0441\u0442\u044c \u043e\u0442\u043a\u0430\u0437\u043e\u0432\n",
      "mu1 = 1/50 #\u0418\u043d\u0442\u0435\u043d\u0441\u0438\u0432\u043d\u043e\u0441\u0442\u044c \u0432\u043e\u0441\u0441\u0442\u0430\u043d\u043e\u0432\u043b\u0435\u043d\u0438\u044f\n",
      "C_prost = 200 #\u0437\u0430\u0442\u0440\u0430\u0442\u044b \u0438\u0437-\u0437\u0430 \u043f\u0440\u043e\u0441\u0442\u043e\u044f \u0441\u0438\u0441\u0442\u0435\u043c\u044b, \u0442\u044b\u0441. \u0440\u0443\u0431/\u0447\u0430\u0441\n",
      "C_brig = 1200 #\u0437\u0430\u0442\u0440\u0430\u0442\u044b \u043d\u0430 \u0441\u043e\u0434\u0435\u0440\u0436\u0430\u043d\u0438\u0435 \u0440\u0435\u043c\u043e\u043d\u0442\u043d\u043e\u0439 \u0431\u0440\u0438\u0433\u0430\u0434\u044b"
     ],
     "language": "python",
     "metadata": {},
     "outputs": [],
     "prompt_number": 5
    },
    {
     "cell_type": "markdown",
     "metadata": {},
     "source": [
      "##\u041c\u043e\u0434\u0435\u043b\u0438\u0440\u043e\u0432\u0430\u043d\u0438\u0435 \u0441\u0438\u0441\u0442\u0435\u043c\u044b \u0441 \u043e\u0434\u043d\u043e\u0439 \u043e\u0431\u0441\u043b\u0443\u0436\u0438\u0432\u0430\u044e\u0449\u0435\u0439 \u0431\u0440\u0438\u0433\u0430\u0434\u043e\u0439"
     ]
    },
    {
     "cell_type": "markdown",
     "metadata": {},
     "source": [
      "### \u0413\u0440\u0430\u0444 \u0441\u043e\u0441\u0442\u043e\u044f\u043d\u0438\u0439\n",
      "![\u0413\u0440\u0430\u0444 \u0441\u043e\u0441\u0442\u043e\u044f\u043d\u0438\u0439](pics/econom_1br.png)\n",
      "\n",
      " - $S_0$ - \u043e\u0431\u0430 \u0430\u043f\u043f\u0430\u0440\u0430\u0442\u0430 \u0438\u0441\u043f\u0440\u0430\u0432\u043d\u044b\n",
      " - $S_1$ - \u043e\u0442\u043a\u0430\u0437\u0430\u043b 1 \u0430\u043f\u043f\u0430\u0440\u0430\u0442\n",
      " - $S_2$ - \u043e\u0442\u043a\u0430\u0437 \u0441\u0438\u0441\u0442\u0435\u043c\u044b"
     ]
    },
    {
     "cell_type": "markdown",
     "metadata": {},
     "source": [
      "###\u0421\u0438\u0441\u0442\u0435\u043c\u0430 \u0443\u0440\u0430\u0432\u043d\u0435\u043d\u0438\u0439 \u041a\u043e\u043b\u043c\u043e\u0433\u043e\u0440\u043e\u0432\u0430\n",
      "\\begin{equation}\n",
      "    \\left\\{\n",
      "        \\begin{aligned}\n",
      "            -2\\lambda_1 P_0 +  \\mu_1 P_1 & = 0 \\\\\n",
      "            2\\lambda_1 P_0 - (\\mu_1 + \\lambda_1) P_1 + \\mu_1 P_2 & = 0\\\\\n",
      "            P_0 + P_1 + P_2 & = 1\\\\\n",
      "        \\end{aligned}\n",
      "    \\right.\n",
      "\\end{equation}"
     ]
    },
    {
     "cell_type": "markdown",
     "metadata": {},
     "source": [
      "\u041f\u0440\u0435\u0434\u0435\u043b\u044c\u043d\u044b\u0435 \u0432\u0435\u0440\u043e\u044f\u0442\u043d\u043e\u0441\u0442\u0438 \u0441\u043e\u0441\u0442\u043e\u044f\u043d\u0438\u0439 \u043c\u043e\u0436\u043d\u043e \u043d\u0430\u0439\u0442\u0438, \u0440\u0435\u0448\u0438\u0432 \u0441\u0438\u0441\u0442\u0435\u043c\u0443 \u043b\u0438\u043d\u0435\u0439\u043d\u044b\u0445 \u0443\u0440\u0430\u0432\u043d\u0435\u043d\u0438\u0439 \u0434\u043b\u044f \u0441\u0442\u0430\u0446\u0438\u043e\u043d\u0430\u0440\u043d\u043e\u0433\u043e \u0440\u0435\u0436\u0438\u043c\u0430"
     ]
    },
    {
     "cell_type": "code",
     "collapsed": false,
     "input": [
      "A = matrix([[-2*lambda1, mu1, 0],\n",
      "            [2*lambda1, -(mu1 + lambda1), mu1],\n",
      "            [1, 1, 1]]\n",
      "           )\n",
      "\n",
      "B = matrix([[0],\n",
      "            [0],\n",
      "            [1]])\n",
      "\n",
      "P = A.I * B\n",
      "\n",
      "# \u0412 \u0440\u0435\u0437\u0443\u043b\u044c\u0442\u0430\u0442\u0435 \u0440\u0435\u0448\u0435\u043d\u0438\u044f \u0441\u0438\u0441\u0442\u0435\u043c\u044b \u043f\u043e\u043b\u0443\u0447\u0430\u0435\u0442\u0441\u044f \u0432\u0435\u043a\u0442\u043e\u0440-\u0441\u0442\u043e\u043b\u0431\u0435\u0446 - \u043c\u0430\u0442\u0440\u0438\u0446\u0430 \u0441 2 \u0441\u0442\u0440\u043e\u043a\u0430\u043c\u0438 \u0438 1 \u0441\u0442\u043e\u043b\u0431\u0446\u043e\u043c\n",
      "# \u0437\u0434\u0435\u0441\u044c \u043e\u043d\u0430 \u043f\u0440\u0435\u043e\u0431\u0440\u0430\u0437\u0443\u0435\u0442\u0441\u044f \u0432 \u043e\u0434\u043d\u043e\u043c\u0435\u0440\u043d\u044b\u0439 \u043c\u0430\u0441\u0441\u0438\u0432 \u0434\u043b\u044f \u0443\u043f\u0440\u043e\u0449\u0435\u043d\u0438\u044f \u0438\u043d\u0434\u0435\u043a\u0441\u0430\u0446\u0438\u0438\n",
      "P = ravel(P) \n",
      "\n",
      "print('\u041f\u0440\u0435\u0434\u0435\u043b\u044c\u043d\u044b\u0435 \u0432\u0435\u0440\u043e\u044f\u0442\u043d\u043e\u0441\u0442\u0438 \u0441\u043e\u0441\u0442\u043e\u044f\u043d\u0438\u0439: P = ', P)"
     ],
     "language": "python",
     "metadata": {},
     "outputs": [
      {
       "output_type": "stream",
       "stream": "stdout",
       "text": [
        "\u041f\u0440\u0435\u0434\u0435\u043b\u044c\u043d\u044b\u0435 \u0432\u0435\u0440\u043e\u044f\u0442\u043d\u043e\u0441\u0442\u0438 \u0441\u043e\u0441\u0442\u043e\u044f\u043d\u0438\u0439: P =  [ 0.905  0.09   0.005]\n"
       ]
      }
     ],
     "prompt_number": 6
    },
    {
     "cell_type": "markdown",
     "metadata": {},
     "source": [
      "###\u0420\u0430\u0441\u0447\u0435\u0442 \u044d\u043a\u043e\u043d\u043e\u043c\u0438\u0447\u0435\u0441\u043a\u0438\u0445 \u043f\u043e\u043a\u0430\u0437\u0430\u0442\u0435\u043b\u0435\u0439"
     ]
    },
    {
     "cell_type": "code",
     "collapsed": false,
     "input": [
      "#\u0412\u0440\u0435\u043c\u044f \u043f\u0440\u043e\u0441\u0442\u043e\u044f, \u0447\u0430\u0441\u043e\u0432 \u0432 \u0433\u043e\u0434\n",
      "\n",
      "T = 365 * 24 #\u0447\u0438\u0441\u043b\u043e \u0447\u0430\u0441\u043e\u0432 \u0432 \u0433\u043e\u0434\u0443\n",
      "\n",
      "prostoi1 = P[2] * T\n",
      "prostoi1"
     ],
     "language": "python",
     "metadata": {},
     "outputs": [
      {
       "metadata": {},
       "output_type": "pyout",
       "prompt_number": 7,
       "text": [
        "39.638"
       ]
      }
     ],
     "prompt_number": 7
    },
    {
     "cell_type": "code",
     "collapsed": false,
     "input": [
      "#\u0421\u043e\u0432\u043e\u043a\u0443\u043f\u043d\u044b\u0435 \u0437\u0430\u0442\u0440\u0430\u0442\u044b - \u043f\u043e\u0442\u0435\u0440\u0438 \u0438\u0437-\u0437\u0430 \u043f\u0440\u043e\u0441\u0442\u043e\u044f \u0441\u0438\u0441\u0442\u0435\u043c\u044b + \u0441\u043e\u0434\u0435\u0440\u0436\u0430\u043d\u0438\u0435 \u043e\u0434\u043d\u043e\u0439 \u0440\u0435\u043c\u043e\u043d\u0442\u043d\u043e\u0439 \u0431\u0440\u0438\u0433\u0430\u0434\u044b\n",
      "zatraty1 = prostoi1 * C_prost + C_brig\n",
      "zatraty1"
     ],
     "language": "python",
     "metadata": {},
     "outputs": [
      {
       "metadata": {},
       "output_type": "pyout",
       "prompt_number": 8,
       "text": [
        "9127.602"
       ]
      }
     ],
     "prompt_number": 8
    },
    {
     "cell_type": "markdown",
     "metadata": {},
     "source": [
      "##\u041c\u043e\u0434\u0435\u043b\u0438\u0440\u043e\u0432\u0430\u043d\u0438\u0435 \u0441\u0438\u0441\u0442\u0435\u043c\u044b \u0441 \u0434\u0432\u0443\u043c\u044f \u043e\u0431\u0441\u043b\u0443\u0436\u0438\u0432\u0430\u044e\u0449\u0438\u043c\u0438 \u0431\u0440\u0438\u0433\u0430\u0434\u0430\u043c\u0438"
     ]
    },
    {
     "cell_type": "markdown",
     "metadata": {},
     "source": [
      "### \u0413\u0440\u0430\u0444 \u0441\u043e\u0441\u0442\u043e\u044f\u043d\u0438\u0439 \u0434\u043b\u044f \u0441\u0438\u0441\u0442\u0435\u043c\u044b \u0441 \u0434\u0432\u0443\u043c\u044f \u043e\u0431\u0441\u043b\u0443\u0436\u0438\u0432\u0430\u044e\u0449\u0438\u043c\u0438 \u0431\u0440\u0438\u0433\u0430\u0434\u0430\u043c\u0438\n",
      "![\u0413\u0440\u0430\u0444 \u0441\u043e\u0441\u0442\u043e\u044f\u043d\u0438\u0439](pics/econom_2br.png)\n",
      "\n",
      " - $S_0$ - \u043e\u0431\u0430 \u0430\u043f\u043f\u0430\u0440\u0430\u0442\u0430 \u0438\u0441\u043f\u0440\u0430\u0432\u043d\u044b\n",
      " - $S_1$ - \u043e\u0442\u043a\u0430\u0437\u0430\u043b 1 \u0430\u043f\u043f\u0430\u0440\u0430\u0442\n",
      " - $S_2$ - \u043e\u0442\u043a\u0430\u0437 \u0441\u0438\u0441\u0442\u0435\u043c\u044b"
     ]
    },
    {
     "cell_type": "markdown",
     "metadata": {},
     "source": [
      "###\u0421\u0438\u0441\u0442\u0435\u043c\u0430 \u0443\u0440\u0430\u0432\u043d\u0435\u043d\u0438\u0439 \u041a\u043e\u043b\u043c\u043e\u0433\u043e\u0440\u043e\u0432\u0430\n",
      "\\begin{equation}\n",
      "    \\left\\{\n",
      "        \\begin{aligned}\n",
      "            -2\\lambda_1 P_0 +  \\mu_1 P_1 & = 0 \\\\\n",
      "            2\\lambda_1 P_0 - (\\mu_1 + \\lambda_1) P_1 + 2\\mu_1 P_2 & = 0\\\\\n",
      "            P_0 + P_1 + P_2 & = 1\\\\\n",
      "        \\end{aligned}\n",
      "    \\right.\n",
      "\\end{equation}"
     ]
    },
    {
     "cell_type": "code",
     "collapsed": false,
     "input": [
      "A = matrix([[-2*lambda1, mu1, 0],\n",
      "            [2*lambda1, -(mu1 + lambda1), 2*mu1],\n",
      "            [1, 1, 1]]\n",
      "           )\n",
      "\n",
      "B = matrix([[0],\n",
      "            [0],\n",
      "            [1]])\n",
      "\n",
      "P = A.I * B\n",
      "\n",
      "# \u0412 \u0440\u0435\u0437\u0443\u043b\u044c\u0442\u0430\u0442\u0435 \u0440\u0435\u0448\u0435\u043d\u0438\u044f \u0441\u0438\u0441\u0442\u0435\u043c\u044b \u043f\u043e\u043b\u0443\u0447\u0430\u0435\u0442\u0441\u044f \u0432\u0435\u043a\u0442\u043e\u0440-\u0441\u0442\u043e\u043b\u0431\u0435\u0446 - \u043c\u0430\u0442\u0440\u0438\u0446\u0430 \u0441 2 \u0441\u0442\u0440\u043e\u043a\u0430\u043c\u0438 \u0438 1 \u0441\u0442\u043e\u043b\u0431\u0446\u043e\u043c\n",
      "# \u0437\u0434\u0435\u0441\u044c \u043e\u043d\u0430 \u043f\u0440\u0435\u043e\u0431\u0440\u0430\u0437\u0443\u0435\u0442\u0441\u044f \u0432 \u043e\u0434\u043d\u043e\u043c\u0435\u0440\u043d\u044b\u0439 \u043c\u0430\u0441\u0441\u0438\u0432 \u0434\u043b\u044f \u0443\u043f\u0440\u043e\u0449\u0435\u043d\u0438\u044f \u0438\u043d\u0434\u0435\u043a\u0441\u0430\u0446\u0438\u0438\n",
      "P = ravel(P) \n",
      "\n",
      "print('\u041f\u0440\u0435\u0434\u0435\u043b\u044c\u043d\u044b\u0435 \u0432\u0435\u0440\u043e\u044f\u0442\u043d\u043e\u0441\u0442\u0438 \u0441\u043e\u0441\u0442\u043e\u044f\u043d\u0438\u0439: P = ', P)"
     ],
     "language": "python",
     "metadata": {},
     "outputs": [
      {
       "output_type": "stream",
       "stream": "stdout",
       "text": [
        "\u041f\u0440\u0435\u0434\u0435\u043b\u044c\u043d\u044b\u0435 \u0432\u0435\u0440\u043e\u044f\u0442\u043d\u043e\u0441\u0442\u0438 \u0441\u043e\u0441\u0442\u043e\u044f\u043d\u0438\u0439: P =  [ 0.907  0.091  0.002]\n"
       ]
      }
     ],
     "prompt_number": 9
    },
    {
     "cell_type": "code",
     "collapsed": false,
     "input": [
      "prostoi2 = P[2] * T\n",
      "prostoi2"
     ],
     "language": "python",
     "metadata": {},
     "outputs": [
      {
       "metadata": {},
       "output_type": "pyout",
       "prompt_number": 10,
       "text": [
        "19.864"
       ]
      }
     ],
     "prompt_number": 10
    },
    {
     "cell_type": "code",
     "collapsed": false,
     "input": [
      "zatraty2 = prostoi2 * C_prost + 2 * C_brig\n",
      "zatraty2"
     ],
     "language": "python",
     "metadata": {},
     "outputs": [
      {
       "metadata": {},
       "output_type": "pyout",
       "prompt_number": 11,
       "text": [
        "6372.789"
       ]
      }
     ],
     "prompt_number": 11
    },
    {
     "cell_type": "code",
     "collapsed": false,
     "input": [
      "zatraty1"
     ],
     "language": "python",
     "metadata": {},
     "outputs": [
      {
       "metadata": {},
       "output_type": "pyout",
       "prompt_number": 12,
       "text": [
        "9127.602"
       ]
      }
     ],
     "prompt_number": 12
    },
    {
     "cell_type": "code",
     "collapsed": false,
     "input": [
      "#\u042d\u043a\u043e\u043d\u043e\u043c\u0438\u044f, \u0442\u044b\u0441. \u0440\u0443\u0431\u043b\u0435\u0439\n",
      "zatraty1 - zatraty2"
     ],
     "language": "python",
     "metadata": {},
     "outputs": [
      {
       "metadata": {},
       "output_type": "pyout",
       "prompt_number": 13,
       "text": [
        "2754.813"
       ]
      }
     ],
     "prompt_number": 13
    }
   ],
   "metadata": {}
  }
 ]
}
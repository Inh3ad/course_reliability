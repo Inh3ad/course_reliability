{
 "cells": [
  {
   "cell_type": "markdown",
   "metadata": {},
   "source": [
    "# Вычисления в IPython Notebook"
   ]
  },
  {
   "cell_type": "markdown",
   "metadata": {},
   "source": [
    "[К первой части про Markdown](ipython_markdown.ipynb)"
   ]
  },
  {
   "cell_type": "markdown",
   "metadata": {},
   "source": [
    "## Волшебные команды - magic functions\n",
    "Волшебные команды (**magic functions**) - это служебные команды IPython, позволяющие управлять вычислениями в блокноте, работать с файлами, выводить системную информацию, а также выполнять многие другие действия\n",
    "\n",
    "Существует 2 вида таких команд:\n",
    " - применяемые к текущей строке - `%команда`\n",
    " - применяемые ко всей ячейке - `%%команда`"
   ]
  },
  {
   "cell_type": "code",
   "execution_count": 1,
   "metadata": {
    "collapsed": false
   },
   "outputs": [],
   "source": [
    "#Пример: вывод краткой справки по работе с блокнотом:\n",
    "#%quickref"
   ]
  },
  {
   "cell_type": "markdown",
   "metadata": {},
   "source": [
    "###Некоторые волшебные команды для работы с файлами\n",
    "\n",
    "Команда       | Назначение\n",
    ":-------------|:-----------\n",
    "`%pwd`        | Вывести текущий каталог\n",
    "`%cd каталог` | Перейти в другой каталог\n",
    "`%ls`         | Вывести список файлов в текущем каталоге\n",
    "`%less файл`  | Вывести на экран содержимое файла\n",
    "`%load файл`  | Загрузить содержимое файла в следующую ячейку (также работает с URL) - удобно для загрузки примеров\n",
    "\n",
    "NB: при работе с файлами удобно использовать автодополнение по клавише `Tab`"
   ]
  },
  {
   "cell_type": "code",
   "execution_count": 2,
   "metadata": {
    "collapsed": false
   },
   "outputs": [],
   "source": [
    "#потренируйтесь здесь\n"
   ]
  },
  {
   "cell_type": "markdown",
   "metadata": {},
   "source": [
    "Также возможно выполнение **любой** системной команды вашей ОС. Достаточно перед командой добавить !, например: `!hostname`\n",
    "\n",
    "![Будьте осторожны](http://www.stihi.ru/pics/2011/11/13/6955.jpg \"Не надо увлекаться!\")\n",
    "\n",
    "BTW, также не стоит не глядя выполнять команду `Run All` для чужих блокнотов..."
   ]
  },
  {
   "cell_type": "markdown",
   "metadata": {},
   "source": [
    "### Некоторые волшебные команды для управления вычислениями\n",
    "\n",
    "Команда       | Назначение\n",
    ":-------------|:-----------\n",
    "`%who`        | Список переменных в памяти\n",
    "`%whos`       | Подробная информация о переменных в памяти\n",
    "`%xdel`       | Удалить объект\n",
    "`%reset`      | Удалить из памяти все объекты\n",
    "`%clear`      | Очистить вывод\n",
    "`%timeit`     | Протестировать скорость выполнения кода в текущей строке\n",
    "`%%timeit`    | Протестировать скорость выполнения кода в текущей ячейке\n",
    "`%matplotlib` | Включить режим для работы с графиками matplotlib"
   ]
  },
  {
   "cell_type": "markdown",
   "metadata": {},
   "source": [
    "### Полный список волшебных команд\n",
    "\n",
    "Список всех доступных волшебных команд можно получить с помощью команды `%lsmagic`\n",
    "\n",
    "Узнать, что делает команда, можно так: `%команда?`"
   ]
  },
  {
   "cell_type": "markdown",
   "metadata": {},
   "source": [
    "> ### Задание\n",
    "> Для чего нужна команда `%precision`?"
   ]
  },
  {
   "cell_type": "code",
   "execution_count": null,
   "metadata": {
    "collapsed": false
   },
   "outputs": [],
   "source": []
  },
  {
   "cell_type": "markdown",
   "metadata": {},
   "source": [
    "##Выполнение кода\n",
    "\n",
    "### Общие принципы\n",
    "* Содержание блокнота - это компьютерная программа, то есть инструкция для компьютера, которая позволяет ему прийти к нужному вам результату\n",
    "* Вы можете создавать и выполнять эту программу последовательно, по частям. В любой момент можно остановиться и изучить полученные результаты.\n",
    "* Блокнот позволяет только редактировать код и отображать выполнения. Все вычисления производятся ядром (kernel) - интерпретатором Python, запущенным на вашем компьютере\n",
    "* При первом открытии блокнота, или после перезапуска ядра все нужно вычислять заново\n",
    "* Блокнот сохраняет содержимое ячеек вывода, поэтому если нужно только посмотреть на результаты, то повторные вычисления не требуются\n"
   ]
  },
  {
   "cell_type": "markdown",
   "metadata": {},
   "source": [
    "### Выражения\n",
    "\n",
    "Выражения - это формулы, составленные из констант, имен переменных и функций. Выражение может быть вычислено. Результатом вычисления является некоторое значение, которое может быть использовано. \n",
    "\n",
    "Несколько простых выражений"
   ]
  },
  {
   "cell_type": "code",
   "execution_count": 3,
   "metadata": {
    "collapsed": false
   },
   "outputs": [
    {
     "data": {
      "text/plain": [
       "6"
      ]
     },
     "execution_count": 3,
     "metadata": {},
     "output_type": "execute_result"
    }
   ],
   "source": [
    "# Математические вычисления\n",
    "2 + 2 * 2"
   ]
  },
  {
   "cell_type": "code",
   "execution_count": 4,
   "metadata": {
    "collapsed": false
   },
   "outputs": [
    {
     "data": {
      "text/plain": [
       "515"
      ]
     },
     "execution_count": 4,
     "metadata": {},
     "output_type": "execute_result"
    }
   ],
   "source": [
    "# Использование встроенной функции\n",
    "15 + max(100, 500)"
   ]
  },
  {
   "cell_type": "code",
   "execution_count": 5,
   "metadata": {
    "collapsed": false
   },
   "outputs": [
    {
     "data": {
      "text/plain": [
       "'учиться, учиться, и еще раз учиться'"
      ]
     },
     "execution_count": 5,
     "metadata": {},
     "output_type": "execute_result"
    }
   ],
   "source": [
    "# Операции со строками\n",
    "'учиться, ' * 2 + 'и еще раз учиться'"
   ]
  },
  {
   "cell_type": "code",
   "execution_count": 6,
   "metadata": {
    "collapsed": false
   },
   "outputs": [
    {
     "data": {
      "text/plain": [
       "9"
      ]
     },
     "execution_count": 6,
     "metadata": {},
     "output_type": "execute_result"
    }
   ],
   "source": [
    "# Несколько выражений в одной ячейке\n",
    "2 * 2\n",
    "3 * 3"
   ]
  },
  {
   "cell_type": "markdown",
   "metadata": {},
   "source": [
    "### Автовывод результатов\n",
    "\n",
    "- Если результат вычисления выражения никак не используется, то он выводится на экран (autoprint). \n",
    "- Выводится только последний результат в ячейке\n",
    "- При необходимости, можно отключить автовывод, добавив в конце выражения символ ;"
   ]
  },
  {
   "cell_type": "code",
   "execution_count": 7,
   "metadata": {
    "collapsed": false
   },
   "outputs": [],
   "source": [
    "# Отключить автовывод\n",
    "2**10;"
   ]
  },
  {
   "cell_type": "markdown",
   "metadata": {},
   "source": [
    "## Переменные\n",
    "\n",
    "Переменные позволяют сохранять результаты вычислений и использовать их в дальнейшем. Чтобы обратиться к результату, можно использовать *имя переменной*, которой этот результат был *присвоен*."
   ]
  },
  {
   "cell_type": "code",
   "execution_count": 8,
   "metadata": {
    "collapsed": false
   },
   "outputs": [],
   "source": [
    "x = 2**10"
   ]
  },
  {
   "cell_type": "code",
   "execution_count": 9,
   "metadata": {
    "collapsed": false
   },
   "outputs": [
    {
     "data": {
      "text/plain": [
       "1024"
      ]
     },
     "execution_count": 9,
     "metadata": {},
     "output_type": "execute_result"
    }
   ],
   "source": [
    "x"
   ]
  },
  {
   "cell_type": "code",
   "execution_count": 10,
   "metadata": {
    "collapsed": false
   },
   "outputs": [
    {
     "data": {
      "text/plain": [
       "2048"
      ]
     },
     "execution_count": 10,
     "metadata": {},
     "output_type": "execute_result"
    }
   ],
   "source": [
    "2 * x"
   ]
  },
  {
   "cell_type": "markdown",
   "metadata": {},
   "source": [
    "В Python не нужно объявлять тип переменной. Тип определяется тем результатом (объектом), на который переменная ссылается (динамическая типизация)"
   ]
  },
  {
   "cell_type": "code",
   "execution_count": 11,
   "metadata": {
    "collapsed": false
   },
   "outputs": [],
   "source": [
    "x = 'Хорошо! '"
   ]
  },
  {
   "cell_type": "code",
   "execution_count": 12,
   "metadata": {
    "collapsed": false
   },
   "outputs": [
    {
     "data": {
      "text/plain": [
       "'Хорошо! Хорошо! '"
      ]
     },
     "execution_count": 12,
     "metadata": {},
     "output_type": "execute_result"
    }
   ],
   "source": [
    "2 * x"
   ]
  },
  {
   "cell_type": "markdown",
   "metadata": {},
   "source": [
    "###Порядок вычислений в блокноте\n",
    "\n",
    "Код в блокноте записан последовательно. Однако вы можете изменить порядок выполнения, запуская отдельные ячейки в произвольном порядке.\n",
    "При этом значения переменных и другие результаты вычислений будут определяться порядком выполнения кода, а не порядком записи в блокноте!\n",
    "\n",
    "При перезапуске ядра все результаты в памяти стираются. Их нужно будет получать заново."
   ]
  },
  {
   "cell_type": "markdown",
   "metadata": {},
   "source": [
    "## Функции\n",
    "\n",
    "Функции позволяют разделить код на отдельные блоки, которые можно затем многократно использовать, не заботясь о деталях реализации.\n",
    "\n",
    "- В отличие от имен переменных, после имени функции обязательно должны следовать скобки ()\n",
    "\n",
    "- Функция может иметь набор *аргументов*, которые нужно задавать при вызове функции.\n",
    "\n",
    "- Функция может возвращать *значение*. В этом случае функцию можно использовать как часть выражения, т.е. использовать возвращаемый результат в формуле."
   ]
  },
  {
   "cell_type": "code",
   "execution_count": 13,
   "metadata": {
    "collapsed": false
   },
   "outputs": [
    {
     "data": {
      "text/plain": [
       "1"
      ]
     },
     "execution_count": 13,
     "metadata": {},
     "output_type": "execute_result"
    }
   ],
   "source": [
    "# Пример использования функции\n",
    "min(3, 1, 2)"
   ]
  },
  {
   "cell_type": "markdown",
   "metadata": {},
   "source": [
    "###Встроенные функции и справка по функциям"
   ]
  },
  {
   "cell_type": "markdown",
   "metadata": {},
   "source": [
    "В Python доступно множество встроенных функций. Увидеть список встроенных функций можно с помощью функции `dir()`:"
   ]
  },
  {
   "cell_type": "code",
   "execution_count": 14,
   "metadata": {
    "collapsed": false
   },
   "outputs": [
    {
     "name": "stdout",
     "output_type": "stream",
     "text": [
      "['ArithmeticError', 'AssertionError', 'AttributeError', 'BaseException', 'BlockingIOError', 'BrokenPipeError', 'BufferError', 'BytesWarning', 'ChildProcessError', 'ConnectionAbortedError', 'ConnectionError', 'ConnectionRefusedError', 'ConnectionResetError', 'DeprecationWarning', 'EOFError', 'Ellipsis', 'EnvironmentError', 'Exception', 'False', 'FileExistsError', 'FileNotFoundError', 'FloatingPointError', 'FutureWarning', 'GeneratorExit', 'IOError', 'ImportError', 'ImportWarning', 'IndentationError', 'IndexError', 'InterruptedError', 'IsADirectoryError', 'KeyError', 'KeyboardInterrupt', 'LookupError', 'MemoryError', 'NameError', 'None', 'NotADirectoryError', 'NotImplemented', 'NotImplementedError', 'OSError', 'OverflowError', 'PendingDeprecationWarning', 'PermissionError', 'ProcessLookupError', 'ReferenceError', 'ResourceWarning', 'RuntimeError', 'RuntimeWarning', 'StopIteration', 'SyntaxError', 'SyntaxWarning', 'SystemError', 'SystemExit', 'TabError', 'TimeoutError', 'True', 'TypeError', 'UnboundLocalError', 'UnicodeDecodeError', 'UnicodeEncodeError', 'UnicodeError', 'UnicodeTranslateError', 'UnicodeWarning', 'UserWarning', 'ValueError', 'Warning', 'WindowsError', 'ZeroDivisionError', '__IPYTHON__', '__IPYTHON__active', '__build_class__', '__debug__', '__doc__', '__import__', '__loader__', '__name__', '__package__', '__spec__', 'abs', 'all', 'any', 'ascii', 'bin', 'bool', 'bytearray', 'bytes', 'callable', 'chr', 'classmethod', 'compile', 'complex', 'copyright', 'credits', 'delattr', 'dict', 'dir', 'divmod', 'dreload', 'enumerate', 'eval', 'exec', 'filter', 'float', 'format', 'frozenset', 'get_ipython', 'getattr', 'globals', 'hasattr', 'hash', 'help', 'hex', 'id', 'input', 'int', 'isinstance', 'issubclass', 'iter', 'len', 'license', 'list', 'locals', 'map', 'max', 'memoryview', 'min', 'next', 'object', 'oct', 'open', 'ord', 'pow', 'print', 'property', 'range', 'repr', 'reversed', 'round', 'set', 'setattr', 'slice', 'sorted', 'staticmethod', 'str', 'sum', 'super', 'tuple', 'type', 'vars', 'zip']\n"
     ]
    }
   ],
   "source": [
    "# Список встроенных функций (и не только функций)\n",
    "print(dir(__builtin__))"
   ]
  },
  {
   "cell_type": "markdown",
   "metadata": {},
   "source": [
    "Еще больше функций содержится в библиотеках, которые вы можете подключить и использовать для решения своих задач.\n",
    "\n",
    "Справку по фукнкции можно получить так:\n",
    "- `help(функция)` - краткая справка (docstring), вывод в ячейку результата\n",
    "- `функция?` - краткая справка (в docstring), вывод в отдельную панель\n",
    "- `функция??` - расширенная справка, выводится код функции (если он доступен), вывод в отдельную панель\n",
    "\n",
    "Закрыть панель со справкой можно по клавише `q` или щелчком на разделителе."
   ]
  },
  {
   "cell_type": "code",
   "execution_count": 15,
   "metadata": {
    "collapsed": false
   },
   "outputs": [
    {
     "name": "stdout",
     "output_type": "stream",
     "text": [
      "Help on built-in function min in module builtins:\n",
      "\n",
      "min(...)\n",
      "    min(iterable, *[, default=obj, key=func]) -> value\n",
      "    min(arg1, arg2, *args, *[, key=func]) -> value\n",
      "    \n",
      "    With a single iterable argument, return its smallest item. The\n",
      "    default keyword-only argument specifies an object to return if\n",
      "    the provided iterable is empty.\n",
      "    With two or more arguments, return the smallest argument.\n",
      "\n"
     ]
    }
   ],
   "source": [
    "# Справка по функции min\n",
    "help(min)"
   ]
  },
  {
   "cell_type": "code",
   "execution_count": 16,
   "metadata": {
    "collapsed": false
   },
   "outputs": [],
   "source": [
    "# Справка по функции min в отдельной панели\n",
    "min?"
   ]
  },
  {
   "cell_type": "markdown",
   "metadata": {},
   "source": [
    "При вводе имен переменных и функций в блокноте работает автодополнение (`Tab`).\n",
    "\n",
    "Подсказку по аргументам функции можно получить по клавише `Shift-Tab` (сначала набрать имя функции и открывающую скобку)"
   ]
  },
  {
   "cell_type": "code",
   "execution_count": 17,
   "metadata": {
    "collapsed": false
   },
   "outputs": [],
   "source": [
    "#Какие аргументы есть у встроенной функции print?\n"
   ]
  },
  {
   "cell_type": "markdown",
   "metadata": {},
   "source": [
    "###Пользовательские функции\n",
    "\n",
    "Свою функцию можно определить, используя оператор `def`"
   ]
  },
  {
   "cell_type": "code",
   "execution_count": 18,
   "metadata": {
    "collapsed": false
   },
   "outputs": [],
   "source": [
    "# Функция, которая возвращает квадрат значения\n",
    "def square(x):\n",
    "    return x * x"
   ]
  },
  {
   "cell_type": "markdown",
   "metadata": {},
   "source": [
    "NB: По отступам Python определяет вложенность блоков кода (клавиша `Tab`)\n",
    "\n",
    "Чтобы изменить уровень вложенности, надо выделить нужные строки и воспользоваться клавишами `Tab` или `Shift-Tab`"
   ]
  },
  {
   "cell_type": "code",
   "execution_count": 19,
   "metadata": {
    "collapsed": false
   },
   "outputs": [
    {
     "data": {
      "text/plain": [
       "25"
      ]
     },
     "execution_count": 19,
     "metadata": {},
     "output_type": "execute_result"
    }
   ],
   "source": [
    "# Вызов пользовательской функции\n",
    "square(5)"
   ]
  },
  {
   "cell_type": "code",
   "execution_count": 20,
   "metadata": {
    "collapsed": false
   },
   "outputs": [],
   "source": [
    "# Подсказка по аргументам пользовательской фуникци\n",
    "#square("
   ]
  },
  {
   "cell_type": "markdown",
   "metadata": {},
   "source": [
    "### Документирование функций - docstring\n",
    "Для того, чтобы подсказка выводилась и по собственным функциям, необходимо поместить после заголовка функции специальный комментарий - docstring"
   ]
  },
  {
   "cell_type": "code",
   "execution_count": 21,
   "metadata": {
    "collapsed": false
   },
   "outputs": [],
   "source": [
    "def distance(x0, y0, x1, y1):\n",
    "    '''\n",
    "    Вычисление расстояния между двумя точками на плоскости\n",
    "    Аргументы:\n",
    "    x0, y0 - координаты первой точки\n",
    "    x1, y1 - координаты второй точки\n",
    "    '''\n",
    "    return ((x0 - x1)**2 + (y0 - y1)**2)**.5    "
   ]
  },
  {
   "cell_type": "code",
   "execution_count": 22,
   "metadata": {
    "collapsed": false
   },
   "outputs": [],
   "source": [
    "#проверка:\n",
    "#distance(\n",
    "\n",
    "#вычислите координаты между точками (5, 5) и (5, 6)"
   ]
  },
  {
   "cell_type": "markdown",
   "metadata": {},
   "source": [
    "###Область видимости\n",
    "\n",
    "Определяемые пользователем переменные и функции имеют свою _область видимости_ (_scope_). Видимость имени определяется тем, в каком месте кода оно определено.\n",
    "\n",
    "Просмотреть список имен пользовательских переменных и функций в текущей области видимости можно с помощью волшебных команд: `%who` и `%whos`. Также можно использовать функцию `dir()`"
   ]
  },
  {
   "cell_type": "code",
   "execution_count": 23,
   "metadata": {
    "collapsed": false
   },
   "outputs": [
    {
     "name": "stdout",
     "output_type": "stream",
     "text": [
      "distance\t square\t x\t \n"
     ]
    }
   ],
   "source": [
    "%who"
   ]
  },
  {
   "cell_type": "code",
   "execution_count": 24,
   "metadata": {
    "collapsed": false
   },
   "outputs": [
    {
     "name": "stdout",
     "output_type": "stream",
     "text": [
      "Variable   Type        Data/Info\n",
      "--------------------------------\n",
      "distance   function    <function distance at 0x04867468>\n",
      "square     function    <function square at 0x04867270>\n",
      "x          str         Хорошо! \n"
     ]
    }
   ],
   "source": [
    "%whos"
   ]
  },
  {
   "cell_type": "markdown",
   "metadata": {},
   "source": [
    "### Локальные и глобальные переменные\n",
    "\n",
    "_Глобальные переменные_ определяются в модуле (верхний уровень программы). Они доступны из любого места модуля.\n",
    "\n",
    "_Локальные переменные_ определяются в теле функции. Они доступны только внутри функции.\n"
   ]
  },
  {
   "cell_type": "code",
   "execution_count": 25,
   "metadata": {
    "collapsed": false
   },
   "outputs": [
    {
     "name": "stdout",
     "output_type": "stream",
     "text": [
      "функция proba 20 10 30\n",
      "функция proba ['x', 'z']\n",
      "модуль 5 10\n",
      "distance\t proba\t square\t x\t y\t \n"
     ]
    }
   ],
   "source": [
    "x = 5 #глобальная переменная\n",
    "y = 10 #глобальная переменная\n",
    "\n",
    "def proba(x):     \n",
    "    z = 30 #локальная переменная\n",
    "    print('функция proba', x, y, z) # внутри функции имя x будет связано со значением первого аргумента функции    \n",
    "    print('функция proba', dir())\n",
    "    \n",
    "proba(20)\n",
    "\n",
    "print('модуль', x, y)\n",
    "\n",
    "#print(x, y, z) #ошибка! Переменная z доступна только внутри функции\n",
    "\n",
    "%who\n"
   ]
  },
  {
   "cell_type": "markdown",
   "metadata": {},
   "source": [
    "![Область для функции proba](pics/scope.svg 'Область для функции proba')"
   ]
  },
  {
   "cell_type": "code",
   "execution_count": 26,
   "metadata": {
    "collapsed": false
   },
   "outputs": [
    {
     "name": "stdout",
     "output_type": "stream",
     "text": [
      "функция proba2 50 100 30\n",
      "функция proba2 ['x', 'y', 'z']\n",
      "модуль 5 10\n",
      "distance\t proba\t proba2\t square\t x\t y\t \n"
     ]
    }
   ],
   "source": [
    "x = 5 #глобальная переменная\n",
    "y = 10 #глобальная переменная\n",
    "\n",
    "def proba2(x):\n",
    "    x = 50 #внутри функции имя x будет связано со значением первого аргумента функции    \n",
    "    z = 30 #локальная переменная\n",
    "    y = 100 #локальная переменная, перекрывающая глобальную\n",
    "    print('функция proba2', x, y, z)\n",
    "    print('функция proba2', dir())    \n",
    "    \n",
    "proba2(20)\n",
    "\n",
    "print('модуль', x, y) # значения не изменились\n",
    "\n",
    "%who"
   ]
  },
  {
   "cell_type": "markdown",
   "metadata": {},
   "source": [
    "![Область для функции proba2](pics/scope2.svg 'Область для функции proba2')"
   ]
  },
  {
   "cell_type": "markdown",
   "metadata": {},
   "source": [
    "## Модули\n",
    "\n",
    "- Большие программы обычно разбиваются на отдельные файлы - модули. \n",
    "- _Модуль_ в Python - это файл, содержащий определения переменных, функций и классов. \n",
    "- Модули разрабатывают как логически завершенные наборы объектов, позволяющие решить некоторую задачу или логически связанные задачи. Например, в модуле `sys` содержатся объекты для работы с системными ресурсами, в модуле `math` - математические функции и константы.\n",
    "- Внутри модуля доступны все объекты, определенные в нем. Также можно пользоваться объектами, определенными в других модулях. Для этого их нужно _импортировать_ с помощью операторов `import` или `from`."
   ]
  },
  {
   "cell_type": "code",
   "execution_count": 27,
   "metadata": {
    "collapsed": false
   },
   "outputs": [],
   "source": [
    "import sys #импорт всех объектов из модуля sys, они будут доступны через sys.имя\n",
    "from math import pi #импорт одной переменной из модуля math, она будет доступна как pi"
   ]
  },
  {
   "cell_type": "markdown",
   "metadata": {},
   "source": [
    "### Пространства имен\n",
    "\n",
    "Чтобы избежать конфликта имен, при импорте модуля оператором `import` имена объектов, определенных в модуле, добавляются в отдельное пространство имен. К ним нужно обращаться так: `модуль.имя объекта`.\n",
    "Список всех объектов в модуле после импорта можно просмотреть функцией `dir(модуль)`"
   ]
  },
  {
   "cell_type": "code",
   "execution_count": 28,
   "metadata": {
    "collapsed": false
   },
   "outputs": [
    {
     "name": "stdout",
     "output_type": "stream",
     "text": [
      "Объекты из модуля sys:\n",
      " ['__displayhook__', '__doc__', '__excepthook__', '__interactivehook__', '__loader__', '__name__', '__package__', '__spec__', '__stderr__', '__stdin__', '__stdout__', '_clear_type_cache', '_current_frames', '_debugmallocstats', '_getframe', '_home', '_mercurial', '_xoptions', 'api_version', 'argv', 'base_exec_prefix', 'base_prefix', 'builtin_module_names', 'byteorder', 'call_tracing', 'callstats', 'copyright', 'displayhook', 'dllhandle', 'dont_write_bytecode', 'exc_info', 'excepthook', 'exec_prefix', 'executable', 'exit', 'flags', 'float_info', 'float_repr_style', 'getallocatedblocks', 'getcheckinterval', 'getdefaultencoding', 'getfilesystemencoding', 'getprofile', 'getrecursionlimit', 'getrefcount', 'getsizeof', 'getswitchinterval', 'gettrace', 'getwindowsversion', 'hash_info', 'hexversion', 'implementation', 'int_info', 'intern', 'maxsize', 'maxunicode', 'meta_path', 'modules', 'path', 'path_hooks', 'path_importer_cache', 'platform', 'prefix', 'ps1', 'ps2', 'ps3', 'setcheckinterval', 'setprofile', 'setrecursionlimit', 'setswitchinterval', 'settrace', 'stderr', 'stdin', 'stdout', 'thread_info', 'version', 'version_info', 'warnoptions', 'winver'] \n",
      "\n"
     ]
    }
   ],
   "source": [
    "print('Объекты из модуля sys:\\n', dir(sys),'\\n') #список имен, определенных в модуле"
   ]
  },
  {
   "cell_type": "code",
   "execution_count": 29,
   "metadata": {
    "collapsed": false
   },
   "outputs": [
    {
     "name": "stdout",
     "output_type": "stream",
     "text": [
      "3.4.3 (v3.4.3:9b73f1c3e601, Feb 24 2015, 22:43:06) [MSC v.1600 32 bit (Intel)]\n"
     ]
    }
   ],
   "source": [
    "print(sys.version) #доступ к объекту из пространства имен модуля"
   ]
  },
  {
   "cell_type": "code",
   "execution_count": 30,
   "metadata": {
    "collapsed": false
   },
   "outputs": [
    {
     "name": "stdout",
     "output_type": "stream",
     "text": [
      "Число Пи = 3.141592653589793\n"
     ]
    }
   ],
   "source": [
    "print(\"Число Пи =\", pi) #доступ к объекту, импортированному в пространство имен текущего модуля"
   ]
  },
  {
   "cell_type": "markdown",
   "metadata": {},
   "source": [
    "При импорте с помощью `from` объекты добавляются в пространство имен текущего модуля и могут переопределить уже существующие в нем имена."
   ]
  },
  {
   "cell_type": "markdown",
   "metadata": {},
   "source": [
    "###Переименование модулей\n",
    "\n",
    "При частом доступе к объектам в пространстве имен модуля удобно, когда префикс, состоящий из имени модуля, имеет небольшую длину. Поэтому часто используемые модули при импорте переименовывают с помощью оператора `as`"
   ]
  },
  {
   "cell_type": "code",
   "execution_count": 31,
   "metadata": {
    "collapsed": false
   },
   "outputs": [
    {
     "data": {
      "text/plain": [
       "array([0, 1, 2, 3, 4])"
      ]
     },
     "execution_count": 31,
     "metadata": {},
     "output_type": "execute_result"
    }
   ],
   "source": [
    "import numpy as np\n",
    "\n",
    "np.arange(5) #функция arange из модуля numpy (переименован в np)"
   ]
  },
  {
   "cell_type": "markdown",
   "metadata": {},
   "source": [
    "### Пакеты\n",
    "\n",
    "- _Пакеты_ (packages) - это способ организации модулей в библиотеки.\n",
    "- Пакеты соответствуют каталогам в файловой системе, в которых размещены файлы родственных модулей.\n",
    "- Пакеты могут включать подпакеты (subpackages), которые позволяют организовать иерархию в пространстве имен пакета.\n",
    "\n",
    "Например, разработчик пакета для работы со звуковыми файлами, может создать такую структуру:\n",
    "\n",
    "![Пакеты](pics/packages.png 'Структура каталогов пакета')\n",
    "\n",
    "Пользователи пакета смогут импортировать модуль для создания эффекта эхо, указав составное имя: `пакет.подпакет.модуль`\n",
    "```python\n",
    "import sound.effects.echo```\n",
    "\n",
    "Для Python разработано множество пакетов, решающих различные задачи. Глобальный каталог пакетов  - [Python Package Index](https://pypi.python.org/pypi)"
   ]
  },
  {
   "cell_type": "markdown",
   "metadata": {},
   "source": [
    "##Типы данных"
   ]
  },
  {
   "cell_type": "markdown",
   "metadata": {},
   "source": [
    "Тип данных позволяет указать компьютеру, какие действия можно выполнять с этими данными и как это делать.\n",
    "\n",
    "Наиболее часто использьуемые типы данных приведены в таблице\n",
    "\n",
    "Тип данных | Применение\n",
    ":----------|:-----------------------------------------\n",
    "int        | Целые числа\n",
    "float      | Действительные числа\n",
    "bool       | Логические значения\n",
    "str        | Строки\n",
    "list       | Списки - упорядоченные последовательности значений (изменяемые)\n",
    "tuple      | Кортежи - упорядоченные последовательности значений (неизменяемые)\n",
    "dict       | Словари - коллекции объектов с доступом по ключу\n",
    "ndarray    | Массивы numpy\n",
    "None       | Пустое значение\n",
    "\n",
    "Тип объекта можно узнать с помощью функции `type()`"
   ]
  },
  {
   "cell_type": "code",
   "execution_count": 32,
   "metadata": {
    "collapsed": false
   },
   "outputs": [
    {
     "data": {
      "text/plain": [
       "int"
      ]
     },
     "execution_count": 32,
     "metadata": {},
     "output_type": "execute_result"
    }
   ],
   "source": [
    "type(3)"
   ]
  },
  {
   "cell_type": "code",
   "execution_count": 33,
   "metadata": {
    "collapsed": false
   },
   "outputs": [
    {
     "data": {
      "text/plain": [
       "float"
      ]
     },
     "execution_count": 33,
     "metadata": {},
     "output_type": "execute_result"
    }
   ],
   "source": [
    "type(3.)"
   ]
  },
  {
   "cell_type": "code",
   "execution_count": 34,
   "metadata": {
    "collapsed": false
   },
   "outputs": [
    {
     "data": {
      "text/plain": [
       "str"
      ]
     },
     "execution_count": 34,
     "metadata": {},
     "output_type": "execute_result"
    }
   ],
   "source": [
    "type('логистика')"
   ]
  },
  {
   "cell_type": "code",
   "execution_count": 35,
   "metadata": {
    "collapsed": false
   },
   "outputs": [
    {
     "data": {
      "text/plain": [
       "bool"
      ]
     },
     "execution_count": 35,
     "metadata": {},
     "output_type": "execute_result"
    }
   ],
   "source": [
    "type(False)"
   ]
  },
  {
   "cell_type": "markdown",
   "metadata": {},
   "source": [
    "###Числовые типы данных\n",
    "\n",
    "Два наиболее часто используемых числовых типа данных - `int` и `float`, соответственно для целых и действительных чисел.\n",
    "\n",
    "При необходимости, преобразование типов происходит автоматически. Если в выражении содержится хотя бы одно действительное число, то результат будет действительным числом."
   ]
  },
  {
   "cell_type": "code",
   "execution_count": 36,
   "metadata": {
    "collapsed": false
   },
   "outputs": [
    {
     "data": {
      "text/plain": [
       "4"
      ]
     },
     "execution_count": 36,
     "metadata": {},
     "output_type": "execute_result"
    }
   ],
   "source": [
    "2 * 2"
   ]
  },
  {
   "cell_type": "code",
   "execution_count": 37,
   "metadata": {
    "collapsed": false
   },
   "outputs": [
    {
     "data": {
      "text/plain": [
       "4.0"
      ]
     },
     "execution_count": 37,
     "metadata": {},
     "output_type": "execute_result"
    }
   ],
   "source": [
    "2 * 2."
   ]
  },
  {
   "cell_type": "code",
   "execution_count": 38,
   "metadata": {
    "collapsed": false
   },
   "outputs": [
    {
     "data": {
      "text/plain": [
       "2.5"
      ]
     },
     "execution_count": 38,
     "metadata": {},
     "output_type": "execute_result"
    }
   ],
   "source": [
    "5 / 2"
   ]
  },
  {
   "cell_type": "markdown",
   "metadata": {},
   "source": [
    "###Логический тип данных"
   ]
  },
  {
   "cell_type": "markdown",
   "metadata": {},
   "source": [
    "Логический тип данных представлен двумя константами - `True` и `False`\n",
    "\n",
    "Результат логического типа часто появляется в операциях сравнения:"
   ]
  },
  {
   "cell_type": "code",
   "execution_count": 39,
   "metadata": {
    "collapsed": false
   },
   "outputs": [
    {
     "data": {
      "text/plain": [
       "True"
      ]
     },
     "execution_count": 39,
     "metadata": {},
     "output_type": "execute_result"
    }
   ],
   "source": [
    "5 > 2"
   ]
  },
  {
   "cell_type": "code",
   "execution_count": 40,
   "metadata": {
    "collapsed": false
   },
   "outputs": [
    {
     "data": {
      "text/plain": [
       "False"
      ]
     },
     "execution_count": 40,
     "metadata": {},
     "output_type": "execute_result"
    }
   ],
   "source": [
    "2 * 2 == 5"
   ]
  },
  {
   "cell_type": "code",
   "execution_count": 41,
   "metadata": {
    "collapsed": false
   },
   "outputs": [
    {
     "data": {
      "text/plain": [
       "True"
      ]
     },
     "execution_count": 41,
     "metadata": {},
     "output_type": "execute_result"
    }
   ],
   "source": [
    "2 * 2 != 5"
   ]
  },
  {
   "cell_type": "code",
   "execution_count": 42,
   "metadata": {
    "collapsed": false
   },
   "outputs": [
    {
     "data": {
      "text/plain": [
       "True"
      ]
     },
     "execution_count": 42,
     "metadata": {},
     "output_type": "execute_result"
    }
   ],
   "source": [
    "'Колбаса' > 'Бутерброд'"
   ]
  },
  {
   "cell_type": "code",
   "execution_count": 43,
   "metadata": {
    "collapsed": false
   },
   "outputs": [
    {
     "name": "stdout",
     "output_type": "stream",
     "text": [
      "1050 1041\n"
     ]
    }
   ],
   "source": [
    "print(ord('К'), ord('Б'))"
   ]
  },
  {
   "cell_type": "markdown",
   "metadata": {},
   "source": [
    "Можно комбинировать несколько логических выражений с помощью операторов and, or, not"
   ]
  },
  {
   "cell_type": "code",
   "execution_count": 44,
   "metadata": {
    "collapsed": false
   },
   "outputs": [
    {
     "data": {
      "text/plain": [
       "True"
      ]
     },
     "execution_count": 44,
     "metadata": {},
     "output_type": "execute_result"
    }
   ],
   "source": [
    "5 > 2 and 'a' < 'b'"
   ]
  },
  {
   "cell_type": "code",
   "execution_count": 45,
   "metadata": {
    "collapsed": false
   },
   "outputs": [
    {
     "data": {
      "text/plain": [
       "False"
      ]
     },
     "execution_count": 45,
     "metadata": {},
     "output_type": "execute_result"
    }
   ],
   "source": [
    "not 5 > 2"
   ]
  },
  {
   "cell_type": "code",
   "execution_count": 46,
   "metadata": {
    "collapsed": false
   },
   "outputs": [
    {
     "data": {
      "text/plain": [
       "True"
      ]
     },
     "execution_count": 46,
     "metadata": {},
     "output_type": "execute_result"
    }
   ],
   "source": [
    "not 5 > 2 or 2 * 2 == 4"
   ]
  },
  {
   "cell_type": "markdown",
   "metadata": {},
   "source": [
    "\n",
    "###Строки"
   ]
  },
  {
   "cell_type": "code",
   "execution_count": 47,
   "metadata": {
    "collapsed": false
   },
   "outputs": [],
   "source": [
    "s = 'Сочи '"
   ]
  },
  {
   "cell_type": "code",
   "execution_count": 48,
   "metadata": {
    "collapsed": false
   },
   "outputs": [
    {
     "data": {
      "text/plain": [
       "'Сочи Море'"
      ]
     },
     "execution_count": 48,
     "metadata": {},
     "output_type": "execute_result"
    }
   ],
   "source": [
    "s2 = 'Море'\n",
    "s + s2"
   ]
  },
  {
   "cell_type": "code",
   "execution_count": 49,
   "metadata": {
    "collapsed": false
   },
   "outputs": [
    {
     "ename": "TypeError",
     "evalue": "Can't convert 'int' object to str implicitly",
     "output_type": "error",
     "traceback": [
      "\u001b[1;31m---------------------------------------------------------------------------\u001b[0m",
      "\u001b[1;31mTypeError\u001b[0m                                 Traceback (most recent call last)",
      "\u001b[1;32m<ipython-input-49-f7c0c27bc365>\u001b[0m in \u001b[0;36m<module>\u001b[1;34m()\u001b[0m\n\u001b[0;32m      1\u001b[0m \u001b[0my\u001b[0m \u001b[1;33m=\u001b[0m \u001b[1;36m2014\u001b[0m\u001b[1;33m\u001b[0m\u001b[0m\n\u001b[1;32m----> 2\u001b[1;33m \u001b[0ms\u001b[0m \u001b[1;33m+\u001b[0m \u001b[0my\u001b[0m\u001b[1;33m\u001b[0m\u001b[0m\n\u001b[0m",
      "\u001b[1;31mTypeError\u001b[0m: Can't convert 'int' object to str implicitly"
     ]
    }
   ],
   "source": [
    "y = 2014\n",
    "s + y"
   ]
  },
  {
   "cell_type": "code",
   "execution_count": null,
   "metadata": {
    "collapsed": false
   },
   "outputs": [],
   "source": [
    "s + str(y) #правильно: приведение типа к строковому типу"
   ]
  },
  {
   "cell_type": "markdown",
   "metadata": {},
   "source": [
    "Сложные строки при выводе результатов расчета удобно получать с помощью оператора форматированного вывода %"
   ]
  },
  {
   "cell_type": "code",
   "execution_count": null,
   "metadata": {
    "collapsed": false
   },
   "outputs": [],
   "source": [
    "r = 10\n",
    "print('Площадь круга радиусом %s равна %s' % (r, pi * r**2)) #формат по умолчанию\n"
   ]
  },
  {
   "cell_type": "code",
   "execution_count": null,
   "metadata": {
    "collapsed": false
   },
   "outputs": [],
   "source": [
    "print('Площадь круга радиусом %.1f равна %.2f' % (r, pi * r**2)) #заданный формат"
   ]
  },
  {
   "cell_type": "markdown",
   "metadata": {},
   "source": [
    "[Справочник по форматам](https://docs.python.org/2/library/string.html#formatspec)\n",
    "\n",
    "Количество цифр после запятой можно также задавать с помощью волшебной команды `%precision`, но это будет работать не везде."
   ]
  },
  {
   "cell_type": "markdown",
   "metadata": {},
   "source": [
    "### Коллекции\n",
    "\n",
    "#### Списки\n",
    "_Список_ (_list_) позволяет создать коллекцию объектов любого типа."
   ]
  },
  {
   "cell_type": "code",
   "execution_count": null,
   "metadata": {
    "collapsed": false
   },
   "outputs": [],
   "source": [
    "l = [1, 2., 'три', False]"
   ]
  },
  {
   "cell_type": "markdown",
   "metadata": {},
   "source": [
    "Нумерация элементов в Python начинается от нуля.\n",
    "\n",
    "![Индексирование элементов списка](pics/list_indexing.svg 'Индексирование элементов списка')\n",
    "\n",
    "\n",
    "Диапазон значений можно указать с помощью двоеточия: `[a:b]`\n",
    "\n",
    "Обратите внимание, что правая граница (`b`) не включается в диапазон!\n"
   ]
  },
  {
   "cell_type": "markdown",
   "metadata": {},
   "source": [
    "Извлечение элементов:"
   ]
  },
  {
   "cell_type": "code",
   "execution_count": null,
   "metadata": {
    "collapsed": false
   },
   "outputs": [],
   "source": [
    "print(l)\n",
    "l[0] #нумерация элементов начинается с нуля"
   ]
  },
  {
   "cell_type": "code",
   "execution_count": null,
   "metadata": {
    "collapsed": false
   },
   "outputs": [],
   "source": [
    "print(l)\n",
    "l[-1] #последний элемент"
   ]
  },
  {
   "cell_type": "code",
   "execution_count": null,
   "metadata": {
    "collapsed": false
   },
   "outputs": [],
   "source": [
    "print(l)\n",
    "l[1:3] #элементы с индексами 1 и 2. NB: Элемент 3 не включается!"
   ]
  },
  {
   "cell_type": "code",
   "execution_count": null,
   "metadata": {
    "collapsed": false
   },
   "outputs": [],
   "source": [
    "print(l)\n",
    "l[2:] #все элементы, начиная с индекса 2 и до конца списка"
   ]
  },
  {
   "cell_type": "code",
   "execution_count": null,
   "metadata": {
    "collapsed": false
   },
   "outputs": [],
   "source": [
    "print(l)\n",
    "l + l #слияние списков"
   ]
  },
  {
   "cell_type": "markdown",
   "metadata": {},
   "source": [
    "Список - _изменяемый_ тип данных (_mutable_)"
   ]
  },
  {
   "cell_type": "code",
   "execution_count": null,
   "metadata": {
    "collapsed": false
   },
   "outputs": [],
   "source": [
    "print(l)\n",
    "l[2] = 3\n",
    "l"
   ]
  },
  {
   "cell_type": "markdown",
   "metadata": {},
   "source": [
    "####Кортежи\n",
    "\n",
    "_Кортеж_ (_tuple_) позволяет создать коллекцию объектов любого вида, однако, в отличие от списка, элементы этой коллекции нельзя менять после создания. Кортеж - _неизменяемый_ тип (_immutable_)"
   ]
  },
  {
   "cell_type": "code",
   "execution_count": null,
   "metadata": {
    "collapsed": false
   },
   "outputs": [],
   "source": [
    "t = (1, 2., 'три', False)"
   ]
  },
  {
   "cell_type": "code",
   "execution_count": null,
   "metadata": {
    "collapsed": false
   },
   "outputs": [],
   "source": [
    "t[1:2]"
   ]
  },
  {
   "cell_type": "code",
   "execution_count": null,
   "metadata": {
    "collapsed": false
   },
   "outputs": [],
   "source": [
    "t[2] = 3 #ошибка!"
   ]
  },
  {
   "cell_type": "code",
   "execution_count": null,
   "metadata": {
    "collapsed": false
   },
   "outputs": [],
   "source": [
    "t + t #новый кортеж, составленный из двух копий t"
   ]
  },
  {
   "cell_type": "markdown",
   "metadata": {},
   "source": [
    "####Словари\n",
    "\n",
    "_Словарь_ (_dict_) позволяет создавать коллекцию объектов любого вида. Однако для выбора _значений_ (_values_) из коллекции используются не индексы, а _ключи_ (_keys_)\n",
    "\n",
    "![Словарь](pics/dic_indexing.svg 'Ключи и значения в словаре')\n",
    "\n",
    "Ключом может быть любой неизменяемый объект. Значение может быть любым объектом."
   ]
  },
  {
   "cell_type": "code",
   "execution_count": null,
   "metadata": {
    "collapsed": false
   },
   "outputs": [],
   "source": [
    "mydict = {'звери': ['собака', 'крот', 'утконос'],\n",
    "         'птицы': ['дятел', 'дрофа']}"
   ]
  },
  {
   "cell_type": "code",
   "execution_count": null,
   "metadata": {
    "collapsed": false
   },
   "outputs": [],
   "source": [
    "mydict['птицы'] #извлечение значения по ключу"
   ]
  },
  {
   "cell_type": "code",
   "execution_count": null,
   "metadata": {
    "collapsed": false
   },
   "outputs": [],
   "source": [
    "mydict['деревья'] = ['дуб', 'баобаб']\n",
    "mydict"
   ]
  },
  {
   "cell_type": "code",
   "execution_count": null,
   "metadata": {
    "collapsed": false
   },
   "outputs": [],
   "source": [
    "mydict[0] #ошибка - элементы словаря не упорядочены, поэтому нельзя использовать числовые индексы"
   ]
  },
  {
   "cell_type": "code",
   "execution_count": null,
   "metadata": {
    "collapsed": false
   },
   "outputs": [],
   "source": [
    "mydict['грибы'] #ошибка - такого ключа нет"
   ]
  },
  {
   "cell_type": "markdown",
   "metadata": {},
   "source": [
    "###Объекты\n",
    "\n",
    "Все типы данных в Python являются _объектными_. Объекты, помимо самих данных, содержат также и _методы_, позволяющие эти данные обрабатывать."
   ]
  },
  {
   "cell_type": "code",
   "execution_count": null,
   "metadata": {
    "collapsed": false
   },
   "outputs": [],
   "source": [
    "print(x)\n",
    "type(x)"
   ]
  },
  {
   "cell_type": "code",
   "execution_count": null,
   "metadata": {
    "collapsed": false
   },
   "outputs": [],
   "source": [
    "print(dir(x))"
   ]
  },
  {
   "cell_type": "markdown",
   "metadata": {},
   "source": [
    "Для доступа к членам класса - вызова методов, или просмотра/изменения атрибутов используется \"запись с точкой\":   \n",
    "- `объектная_переменная.метод()` \n",
    "- `объектная_переменная.имя_атрибута`"
   ]
  },
  {
   "cell_type": "code",
   "execution_count": null,
   "metadata": {
    "collapsed": false
   },
   "outputs": [],
   "source": [
    "x.imag"
   ]
  },
  {
   "cell_type": "code",
   "execution_count": null,
   "metadata": {
    "collapsed": false
   },
   "outputs": [],
   "source": [
    "print(s)\n",
    "type(s)"
   ]
  },
  {
   "cell_type": "code",
   "execution_count": null,
   "metadata": {
    "collapsed": false
   },
   "outputs": [],
   "source": [
    "print(dir(s))"
   ]
  },
  {
   "cell_type": "markdown",
   "metadata": {},
   "source": [
    "Если в блокноте сразу после ввода точки нажать клавишу `Tab`, то выводится подсказка по методам и атрибутам объекта, на который ссылается переменная"
   ]
  },
  {
   "cell_type": "code",
   "execution_count": null,
   "metadata": {
    "collapsed": false
   },
   "outputs": [],
   "source": [
    "# Попробуйте здесь получить подсказку по методам объекта-строки (переменная s)\n",
    "\n"
   ]
  },
  {
   "cell_type": "code",
   "execution_count": null,
   "metadata": {
    "collapsed": false
   },
   "outputs": [],
   "source": [
    "s.upper()"
   ]
  },
  {
   "cell_type": "code",
   "execution_count": null,
   "metadata": {
    "collapsed": false
   },
   "outputs": [],
   "source": [
    "s.upper().strip()"
   ]
  },
  {
   "cell_type": "code",
   "execution_count": null,
   "metadata": {
    "collapsed": false
   },
   "outputs": [],
   "source": [
    "print(l)\n",
    "type(l)"
   ]
  },
  {
   "cell_type": "code",
   "execution_count": null,
   "metadata": {
    "collapsed": false
   },
   "outputs": [],
   "source": [
    "print(dir(l))"
   ]
  },
  {
   "cell_type": "code",
   "execution_count": null,
   "metadata": {
    "collapsed": false
   },
   "outputs": [],
   "source": [
    "l.reverse() #список изменяется \"на месте\"\n",
    "print(l)"
   ]
  },
  {
   "cell_type": "markdown",
   "metadata": {},
   "source": [
    "Чтобы задать, какие атрибуты (данные) и методы (операции) будут у объекта, разработчики создают _классы_.  Объектно-ориентированный подход упрощает разработку программ, потому что классы скрывают детали реализации от пользователя. Чтобы воспользоваться объектом, достаточно знать, какие методы он поддерживает и правила использования этих методов. Во многих случаях (например, при сравнениях, выполнении арифметических операций, при печати) нужные методы вызываются автоматически."
   ]
  },
  {
   "cell_type": "code",
   "execution_count": null,
   "metadata": {
    "collapsed": false
   },
   "outputs": [],
   "source": [
    "list?"
   ]
  },
  {
   "cell_type": "markdown",
   "metadata": {},
   "source": [
    "В определение класса может быть включен специальный метод - `__init__()` (_конструктор_). Конструктор автоматически выполняется при создании нового объекта на основе данного класса. Это позволяет сразу при создании получить объект с нужными свойствами. Данные для этого передаются через аргументы конструктора. При использовании инициализации объекта в программе, необходимо указывать эти аргументы в скобках после имени класса."
   ]
  },
  {
   "cell_type": "code",
   "execution_count": null,
   "metadata": {
    "collapsed": false
   },
   "outputs": [],
   "source": [
    "print(s)\n",
    "l2 = list(s) #список из строки\n",
    "print(l2)"
   ]
  },
  {
   "cell_type": "markdown",
   "metadata": {},
   "source": [
    "### Пустое значение\n",
    "\n",
    "Чтобы показать, что имя переменной не связано ни с каким объектом, в Python используется специальное значение: `None`"
   ]
  },
  {
   "cell_type": "code",
   "execution_count": null,
   "metadata": {
    "collapsed": false
   },
   "outputs": [],
   "source": [
    "x = None\n",
    "print(x)\n",
    "type(x)"
   ]
  },
  {
   "cell_type": "code",
   "execution_count": null,
   "metadata": {
    "collapsed": false
   },
   "outputs": [],
   "source": [
    "x is None #проверка на пустое значение"
   ]
  },
  {
   "cell_type": "markdown",
   "metadata": {},
   "source": [
    "### Массивы\n",
    "\n",
    "_Массив_ (_array_) - тип данных, предназначенный для обработки табличных данных. Определение этого типа данных и функции для работы с массивами содержатся в пакете `numpy`."
   ]
  },
  {
   "cell_type": "code",
   "execution_count": null,
   "metadata": {
    "collapsed": false
   },
   "outputs": [],
   "source": [
    "import numpy as np"
   ]
  },
  {
   "cell_type": "markdown",
   "metadata": {},
   "source": [
    "####Создание массивов"
   ]
  },
  {
   "cell_type": "code",
   "execution_count": null,
   "metadata": {
    "collapsed": false
   },
   "outputs": [],
   "source": [
    "arr1 = np.array([10, 20, 25, 32]) #массив из списка\n",
    "print(arr1)\n",
    "type(arr1)"
   ]
  },
  {
   "cell_type": "code",
   "execution_count": null,
   "metadata": {
    "collapsed": false
   },
   "outputs": [],
   "source": [
    "arr1.shape #форма массива"
   ]
  },
  {
   "cell_type": "code",
   "execution_count": null,
   "metadata": {
    "collapsed": false
   },
   "outputs": [],
   "source": [
    "arr1.ndim #число измерений"
   ]
  },
  {
   "cell_type": "code",
   "execution_count": null,
   "metadata": {
    "collapsed": false
   },
   "outputs": [],
   "source": [
    "#двухмерный массив из списка:\n",
    "arr2 = np.array([[1, 2, 3],\n",
    "                 [4, 5, 6],\n",
    "                 [7, 8, 9]])\n",
    "print(arr2)"
   ]
  },
  {
   "cell_type": "code",
   "execution_count": null,
   "metadata": {
    "collapsed": false
   },
   "outputs": [],
   "source": [
    "arr2.shape"
   ]
  },
  {
   "cell_type": "code",
   "execution_count": null,
   "metadata": {
    "collapsed": false
   },
   "outputs": [],
   "source": [
    "arr2.ndim"
   ]
  },
  {
   "cell_type": "code",
   "execution_count": null,
   "metadata": {
    "collapsed": false
   },
   "outputs": [],
   "source": [
    "I = np.identity(5) #единичная матрица\n",
    "print(I)"
   ]
  },
  {
   "cell_type": "code",
   "execution_count": null,
   "metadata": {
    "collapsed": false
   },
   "outputs": [],
   "source": [
    "I.shape"
   ]
  },
  {
   "cell_type": "code",
   "execution_count": null,
   "metadata": {
    "collapsed": false
   },
   "outputs": [],
   "source": [
    "I.ndim"
   ]
  },
  {
   "cell_type": "code",
   "execution_count": null,
   "metadata": {
    "collapsed": false
   },
   "outputs": [],
   "source": [
    "A = np.zeros((3, 4))\n",
    "print(A)"
   ]
  },
  {
   "cell_type": "code",
   "execution_count": null,
   "metadata": {
    "collapsed": false
   },
   "outputs": [],
   "source": [
    "x = np.arange(-10, 11, 2)\n",
    "x"
   ]
  },
  {
   "cell_type": "code",
   "execution_count": null,
   "metadata": {
    "collapsed": false
   },
   "outputs": [],
   "source": [
    "y = np.linspace(-10, 10, 11)\n",
    "y"
   ]
  },
  {
   "cell_type": "code",
   "execution_count": null,
   "metadata": {
    "collapsed": false
   },
   "outputs": [],
   "source": [
    "print(x.dtype, y.dtype)"
   ]
  },
  {
   "cell_type": "code",
   "execution_count": null,
   "metadata": {
    "collapsed": false
   },
   "outputs": [],
   "source": [
    "print(x.nbytes, y.nbytes)"
   ]
  },
  {
   "cell_type": "markdown",
   "metadata": {},
   "source": [
    "####Операции с массивами"
   ]
  },
  {
   "cell_type": "code",
   "execution_count": null,
   "metadata": {
    "collapsed": false
   },
   "outputs": [],
   "source": [
    "A[1, 1] = 5 #изменение элемента\n",
    "print(A)"
   ]
  },
  {
   "cell_type": "code",
   "execution_count": null,
   "metadata": {
    "collapsed": false
   },
   "outputs": [],
   "source": [
    "A[1:, 2:] = 10\n",
    "print(A)"
   ]
  },
  {
   "cell_type": "code",
   "execution_count": null,
   "metadata": {
    "collapsed": false
   },
   "outputs": [],
   "source": [
    "print(A[1]) #извлечение строки"
   ]
  },
  {
   "cell_type": "code",
   "execution_count": null,
   "metadata": {
    "collapsed": false
   },
   "outputs": [],
   "source": [
    "print(A[:, 1]) #извлечение столбца"
   ]
  },
  {
   "cell_type": "code",
   "execution_count": null,
   "metadata": {
    "collapsed": false
   },
   "outputs": [],
   "source": [
    "print(A * 2) #полэлементное умножение"
   ]
  },
  {
   "cell_type": "code",
   "execution_count": null,
   "metadata": {
    "collapsed": false
   },
   "outputs": [],
   "source": [
    "print(A * A)"
   ]
  },
  {
   "cell_type": "code",
   "execution_count": null,
   "metadata": {
    "collapsed": false
   },
   "outputs": [],
   "source": [
    "print(np.sqrt(A * A)) #применение функции к каждому элементу массива"
   ]
  },
  {
   "cell_type": "code",
   "execution_count": null,
   "metadata": {
    "collapsed": false
   },
   "outputs": [],
   "source": [
    "print(A.T) #транспонирование"
   ]
  },
  {
   "cell_type": "code",
   "execution_count": null,
   "metadata": {
    "collapsed": false
   },
   "outputs": [],
   "source": [
    "B = A #переменная B ссылается на тот же массив, что и переменная A\n",
    "B[0, 0] = 33\n",
    "print(B)"
   ]
  },
  {
   "cell_type": "code",
   "execution_count": null,
   "metadata": {
    "collapsed": false
   },
   "outputs": [],
   "source": [
    "print(A) #массив изменился, поэтому ссылка A также показывает измененный вариант"
   ]
  },
  {
   "cell_type": "code",
   "execution_count": null,
   "metadata": {
    "collapsed": false
   },
   "outputs": [],
   "source": [
    "C = A.copy() #создается копия массива\n",
    "C[0, 0] = 55\n",
    "print(C) "
   ]
  },
  {
   "cell_type": "code",
   "execution_count": null,
   "metadata": {
    "collapsed": false
   },
   "outputs": [],
   "source": [
    "print(A) #оригинал не изменился"
   ]
  },
  {
   "cell_type": "markdown",
   "metadata": {},
   "source": [
    "##Построение графиков\n",
    "\n",
    "Основная графическая библиотека Python - `matplotlib`. Подпакет `pyplot` в этой библиотеке содержит простые функции для построения графиков, похожие на аналогичные функции в Matlab.\n",
    "\n",
    "[Введение в pyplot](http://matplotlib.org/users/pyplot_tutorial.html)"
   ]
  },
  {
   "cell_type": "code",
   "execution_count": null,
   "metadata": {
    "collapsed": false
   },
   "outputs": [],
   "source": [
    "import matplotlib.pyplot as plt\n",
    "%matplotlib inline \n",
    "#графики встраиваются в блокнот; без inline - будут показаны в отдельном окне"
   ]
  },
  {
   "cell_type": "markdown",
   "metadata": {},
   "source": [
    "При необходимости, можно переключить формат, в котором выводятся графики. Векторные форматы позволяют сохранить качество при масштабировании и печати, но требуют больше ресурсов. По умолчанию используется растровый формат png"
   ]
  },
  {
   "cell_type": "code",
   "execution_count": null,
   "metadata": {
    "collapsed": false
   },
   "outputs": [],
   "source": [
    "from IPython.display import set_matplotlib_formats\n",
    "set_matplotlib_formats('svg') #векторный формат"
   ]
  },
  {
   "cell_type": "markdown",
   "metadata": {},
   "source": [
    "### Линейные графики и диаграммы рассеяния\n",
    "Графики в Matplotlib строятся по точкам. Обычно координаты точек хранятся в массивах."
   ]
  },
  {
   "cell_type": "code",
   "execution_count": null,
   "metadata": {
    "collapsed": false
   },
   "outputs": [],
   "source": [
    "x = np.linspace(-10, 10, 20)\n",
    "y = x**2"
   ]
  },
  {
   "cell_type": "markdown",
   "metadata": {},
   "source": [
    "Для вывода линейных графиков и диаграмм рассеяния используется функция `plot()`"
   ]
  },
  {
   "cell_type": "code",
   "execution_count": null,
   "metadata": {
    "collapsed": false
   },
   "outputs": [],
   "source": [
    "plt.plot(x, y);"
   ]
  },
  {
   "cell_type": "code",
   "execution_count": null,
   "metadata": {
    "collapsed": false
   },
   "outputs": [],
   "source": [
    "plt.plot(x, y, 'ro-') #изменение цвета и типа линии и маркера - см. подсказку по Shift-Tab;"
   ]
  },
  {
   "cell_type": "code",
   "execution_count": null,
   "metadata": {
    "collapsed": false
   },
   "outputs": [],
   "source": [
    "plt.plot(x, y, color='red', marker='o', linestyle='--', markerfacecolor='blue');"
   ]
  },
  {
   "cell_type": "markdown",
   "metadata": {},
   "source": [
    "### Оформление графиков\n",
    "В ячейке блокнота можно несколько раз вызывать функцию `plot()` для нанесения нескольких линий на график. Также можно использовать различные функции для форматирования графика и добавления легенды."
   ]
  },
  {
   "cell_type": "code",
   "execution_count": null,
   "metadata": {
    "collapsed": false
   },
   "outputs": [],
   "source": [
    "plt.plot(x, y, color='red', marker='o', linestyle='--', label='Линия 1')\n",
    "plt.plot(x, -y + 100, color='blue', marker='x', label='Линия 2')\n",
    "plt.grid() # сетка\n",
    "plt.legend(loc='best');"
   ]
  },
  {
   "cell_type": "markdown",
   "metadata": {},
   "source": [
    "см. также [Примеры размещения легенды графика](http://matplotlib.org/users/legend_guide.html)"
   ]
  },
  {
   "cell_type": "markdown",
   "metadata": {},
   "source": [
    "С помощью функций `xlabel()`, `ylabel()` можно подписать координатные оси. Заглавие графика можно задать с помощью функции `title()`. \n",
    "\n",
    "В названия и аннотации можно включать математические символы и формулы, используя $\\LaTeX$. Чтобы не возникало ошибок из-за специальных символов, используемых для набора формул, нужно добавлять символ `r` перед строкой с формулой, например: `r'$\\alpha$'`."
   ]
  },
  {
   "cell_type": "code",
   "execution_count": null,
   "metadata": {
    "collapsed": false
   },
   "outputs": [],
   "source": [
    "plt.plot(x, y, color='red', marker='o', linestyle='--', label='Линия 1')\n",
    "plt.plot(x, -y + 100, color='blue', marker='x', label='Линия 2')\n",
    "plt.legend(loc='upper center', ncol=2)\n",
    "plt.grid()\n",
    "\n",
    "#Подписи для осей:\n",
    "plt.xlabel('x', fontsize=14)\n",
    "plt.ylabel('y', fontsize=14)\n",
    "\n",
    "#Диапазон оси y:\n",
    "plt.ylim(0, 120)\n",
    "\n",
    "#Заголовок:\n",
    "plt.title(r'График функций $y = x ^2 $ и $y = 100 - x^2$', fontsize=16, y=1.05);"
   ]
  },
  {
   "cell_type": "markdown",
   "metadata": {},
   "source": [
    "### Аннотирование графиков\n",
    "\n",
    "Текстовые пояснения на графиках можно выводить с помощью функции `text()`.\n",
    "Функция `annotate()` позволяет создавать более сложные аннотации, например, со стрелками, указывающими на определенную область графика.\n",
    "Горизонтальные и вертикальные опорные линии можно строить с помощью функций `axhline()`, `axvline()`."
   ]
  },
  {
   "cell_type": "code",
   "execution_count": null,
   "metadata": {
    "collapsed": false
   },
   "outputs": [],
   "source": [
    "t = np.linspace(0., 4 * np.pi, 101)\n",
    "f = np.sin(t) + 3\n",
    "plt.plot(t,f)\n",
    "\n",
    "plt.axhline(3,color='lightgray',linestyle='--')\n",
    "plt.text(10.5, 3.05, 'Среднее')\n",
    "plt.annotate('Локальный\\nминимум', xy=(3 * np.pi / 2, 2), \n",
    "             xytext=(3.7, 2.7), \n",
    "             arrowprops=dict(arrowstyle='->', color='red'));"
   ]
  },
  {
   "cell_type": "markdown",
   "metadata": {},
   "source": [
    "[Руководство по аннотированию графиков](http://matplotlib.org/users/annotations_guide.html)"
   ]
  },
  {
   "cell_type": "markdown",
   "metadata": {},
   "source": [
    "##Дополнительные ресурсы\n",
    "\n",
    "- Галерея matplotlib http://matplotlib.org/gallery.html\n",
    "- Python scientific lecture notes https://scipy-lectures.github.io/\n"
   ]
  },
  {
   "cell_type": "markdown",
   "metadata": {},
   "source": [
    "Примеры кода из Интернет можно загружать с помощью волшебной команды `%load`\n",
    "\n",
    "Пусть, необходимо построить график, похожий на http://matplotlib.org/examples/pie_and_polar_charts/polar_bar_demo.html\n",
    "Для получения шаблона кода достаточно скопировать ссылку на исходный код (.py) на странице примера и указать эту ссылку в команде `%load`:"
   ]
  },
  {
   "cell_type": "code",
   "execution_count": null,
   "metadata": {
    "collapsed": false
   },
   "outputs": [],
   "source": [
    "#%load http://matplotlib.org/mpl_examples/pie_and_polar_charts/polar_bar_demo.py"
   ]
  }
 ],
 "metadata": {
  "kernelspec": {
   "display_name": "Python 3",
   "language": "python",
   "name": "python3"
  },
  "language_info": {
   "codemirror_mode": {
    "name": "ipython",
    "version": 3
   },
   "file_extension": ".py",
   "mimetype": "text/x-python",
   "name": "python",
   "nbconvert_exporter": "python",
   "pygments_lexer": "ipython3",
   "version": "3.4.3"
  }
 },
 "nbformat": 4,
 "nbformat_minor": 0
}
